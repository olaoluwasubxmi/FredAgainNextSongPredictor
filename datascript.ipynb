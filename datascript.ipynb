{
 "cells": [
  {
   "cell_type": "code",
   "execution_count": 1,
   "metadata": {},
   "outputs": [
    {
     "name": "stderr",
     "output_type": "stream",
     "text": [
      "/var/folders/8b/tzfxgvns3118db_xs7xv4xqc0000gn/T/ipykernel_4381/1238146890.py:14: FutureWarning: The default value of regex will change from True to False in a future version.\n",
      "  df['comment'] = df['comment'].str.replace(r'\\W',\"\")\n",
      "/var/folders/8b/tzfxgvns3118db_xs7xv4xqc0000gn/T/ipykernel_4381/1238146890.py:15: FutureWarning: The default value of regex will change from True to False in a future version.\n",
      "  df['comment'] = df['comment'].str.replace('[a-zA-Z]','')\n",
      "/var/folders/8b/tzfxgvns3118db_xs7xv4xqc0000gn/T/ipykernel_4381/1238146890.py:16: FutureWarning: The default value of regex will change from True to False in a future version.\n",
      "  df['comment'] = df['comment'].str.replace(r'\\d{4,}', '')\n",
      "/var/folders/8b/tzfxgvns3118db_xs7xv4xqc0000gn/T/ipykernel_4381/1238146890.py:17: FutureWarning: The default value of regex will change from True to False in a future version.\n",
      "  df['comment'] = df['comment'].str.replace(r'[^0-9]', '')\n",
      "/var/folders/8b/tzfxgvns3118db_xs7xv4xqc0000gn/T/ipykernel_4381/1238146890.py:18: FutureWarning: The default value of regex will change from True to False in a future version.\n",
      "  df['comment'] = df['comment'].str.replace(r'\\d{4,}', '')\n",
      "/var/folders/8b/tzfxgvns3118db_xs7xv4xqc0000gn/T/ipykernel_4381/1238146890.py:19: FutureWarning: The default value of regex will change from True to False in a future version.\n",
      "  df['comment'] = df['comment'].str.replace(r'\\W',\"\")\n",
      "/var/folders/8b/tzfxgvns3118db_xs7xv4xqc0000gn/T/ipykernel_4381/1238146890.py:20: FutureWarning: The default value of regex will change from True to False in a future version.\n",
      "  df['comment'] = df['comment'].str.replace(r'\\d{2,}', '')\n"
     ]
    },
    {
     "name": "stdout",
     "output_type": "stream",
     "text": [
      "3 1 1 1 1 1 1 1 1 1 1 1 1 2 1 1 1 1 1 1 1 1 1 1 2 1 1 1 1 1 1 1 1 2 1 3 1 3 2 2 1 1 1 3 1 1 1 3 1 1 1 1 1 1 2 1 3 1 3 3 2 3 1 1 1 1 2 1 1 1 1 1 1 1 3 1 1 1 3 3 2 1 3 3 3 3 3 1 1 1 1 1 1 1 1 2 1 1 1 1 3 1 3 1 1 1 1 2 1 1 1 2 1 1 3 3 1 2 2 1 1 1 1 1 1 1 1 1 3 1 1 1 2 3 3 1 1 1 3 1 1 1 3 1 1 2 1 1 2 3 1 1 1 2 1 1 1 1 1 1 3 1 3 3 2 1 1 1 1 3 3 1 4 1 1 1 1 3 1 1 1 1 1 1 1 1 1 1 1 1 1 1 1 3 1 1 1 2 3 1 3 1 3 1 1 2 1 3 1 2 3 1 1 3 3 3 1 2 2 3 1 1 2 2 1 1 3 1 3 2 3 3 3 1 1 3 3 5 2 2 2 1 3 2\n",
      "\n",
      "3 1 1 1 1 1 1 1 1 1 1 1 1 2 1 1 1 1 1 1 1 1 1 1 2 1 1 1 1 1 1 1 1 2 1 3 1 3 2 2 1 1 1 3 1 1 1 3 1 1 1 1 1 1 2 1 3 1 3 3 2 3 1 1 1 1 2 1 1 1 1 1 1 1 3 1 1 1 3 3 2 1 3 3 3 3 3 1 1 1 1 1 1 1 1 2 1 1 1 1 3 1 3 1 1 1 1 2 1 1 1 2 1 1 3 3 1 2 2 1 1 1 1 1 1 1 1 1 3 1 1 1 2 3 3 1 1 1 3 1 1 1 3 1 1 2 1 1 2 3 1 1 1 2 1 1 1 1 1 1 3 1 3 3 2 1 1 1 1 3 3 1 4 1 1 1 1 3 1 1 1 1 1 1 1 1 1 1 1 1 1 1 1 3 1 1 1 2 3 1 3 1 3 1 1 2 1 3 1 2 3 1 1 3 3 3 1 2 2 3 1 1 2 2 1 1 3 1 3 2 3 3 3 1 1 3 3 5 2 2 2 1 3 2\n",
      "244 Comments in total\n",
      " FRED AGAIN IS DROPPING NUMBER 1 CALLED PULL ME OUT OF THIS\n"
     ]
    },
    {
     "name": "stderr",
     "output_type": "stream",
     "text": [
      "/var/folders/8b/tzfxgvns3118db_xs7xv4xqc0000gn/T/ipykernel_4381/1238146890.py:51: FutureWarning: The default value of regex will change from True to False in a future version. In addition, single character regular expressions will *not* be treated as literal strings when regex=True.\n",
      "  df['comment'] = df['comment'].str.replace(character, \"\")\n"
     ]
    },
    {
     "data": {
      "text/plain": [
       "Text(0.5, 1.0, 'Number of comments for each number 1-5')"
      ]
     },
     "execution_count": 1,
     "metadata": {},
     "output_type": "execute_result"
    },
    {
     "data": {
      "image/png": "[encoded data removed]",
      "text/plain": [
       "<Figure size 640x480 with 1 Axes>"
      ]
     },
     "metadata": {},
     "output_type": "display_data"
    }
   ],
   "source": [
    "import pandas as pd\n",
    "excel_file_path = 'rawdata.xlsx'\n",
    "df = pd.read_excel(excel_file_path)\n",
    "df = df.drop('profilePictureUrl', axis=1)\n",
    "df = df.drop('commentId', axis=1)\n",
    "df = df.drop('ownerId', axis=1)\n",
    "df = df.drop('timestamp', axis=1)\n",
    "df = df.drop('query', axis=1)\n",
    "df = df.drop('profileUrl', axis=1)\n",
    "df = df.drop('replyCount', axis=1)\n",
    "df = df.drop('commentDate', axis=1)\n",
    "\n",
    "\n",
    "df['comment'] = df['comment'].str.replace(r'\\W',\"\")\n",
    "df['comment'] = df['comment'].str.replace('[a-zA-Z]','')\n",
    "df['comment'] = df['comment'].str.replace(r'\\d{4,}', '')\n",
    "df['comment'] = df['comment'].str.replace(r'[^0-9]', '')\n",
    "df['comment'] = df['comment'].str.replace(r'\\d{4,}', '')\n",
    "df['comment'] = df['comment'].str.replace(r'\\W',\"\")\n",
    "df['comment'] = df['comment'].str.replace(r'\\d{2,}', '')\n",
    "\n",
    "#delete all rows without comment\n",
    "df = df[df['comment'].notna()]\n",
    "df = df[df['comment'] != '']\n",
    "\n",
    "\n",
    "df.to_excel('clean_data.xlsx')\n",
    "\n",
    "\n",
    "#add all comment data to one string\n",
    "comment_string = df['comment'].str.cat(sep=' ')\n",
    "#add all comment data with 1 to one string\n",
    "print (comment_string)\n",
    "\n",
    "# add all comment data that has number 1 to one string\n",
    "comment_string_1 = df[df['comment'] == 1]['comment'].str.cat(sep=' ')\n",
    "print (comment_string_1)\n",
    "\n",
    "#save comment string to txt file\n",
    "with open('comment_string.txt', 'w') as f:\n",
    "    f.write(comment_string)\n",
    "\n",
    "\n",
    "\n",
    "chars = [\"!\",'\"',\"#\",\"%\",\"&\",\"'\",\"(\",\")\",\n",
    "              \"*\",\"+\",\",\",\"-\",\".\",\"/\",\":\",\";\",\"<\",\n",
    "              \"=\",\">\",\"?\",\"@\",\"[\",\"\\\\\",\"]\",\"^\",\"_\",\n",
    "              \"`\",\"{\",\"|\",\"}\",\"~\",\"–\",\n",
    "            ]\n",
    "for character in chars:\n",
    "    df['comment'] = df['comment'].str.replace(character, \"\")\n",
    "\n",
    "\n",
    "\n",
    "\n",
    "\n",
    "#add all comment data to one string\n",
    "comment_string = df['comment'].str.cat(sep=' ')\n",
    "#add all comment data with 1 to one string\n",
    "print (comment_string)\n",
    "how_many_ones = comment_string.count('1')\n",
    "how_many_twos = comment_string.count('2')\n",
    "how_many_threes = comment_string.count('3')\n",
    "how_many_fours = comment_string.count('4')\n",
    "how_many_fives = comment_string.count('5')\n",
    "#compare how many number 1 are in comment string\n",
    "import re\n",
    "how_many_numbers_in_total =  (len(re.findall(r'\\d+', comment_string)))\n",
    "#convert how_many_numbers_in_total to a string\n",
    "how_many_numbers_in_total = str(how_many_numbers_in_total)\n",
    "print(how_many_numbers_in_total + \" Comments in total\" )\n",
    " \n",
    "\n",
    "\n",
    "#compare how_many_ones with how_many_twos and how_many_threes\n",
    "if how_many_ones > how_many_twos and how_many_ones > how_many_threes and how_many_ones > how_many_fours and how_many_ones > how_many_fives:\n",
    "    print (' FRED AGAIN IS DROPPING NUMBER 1 CALLED PULL ME OUT OF THIS')\n",
    "elif how_many_twos > how_many_ones and how_many_twos > how_many_threes and how_many_twos > how_many_fours and how_many_twos > how_many_fives:\n",
    "    print ('FRED AGAIN IS DROPPING NUMBER 2 CALLED THE NIGHT IS DARK')\n",
    "elif how_many_threes > how_many_ones and how_many_threes > how_many_twos and how_many_threes > how_many_fours and how_many_threes > how_many_fives:\n",
    "    print ('FRED AGAIN IS DROPPING NUMBER 3 CALLED STILL BREATHING')\n",
    "elif how_many_fours > how_many_ones and how_many_fours > how_many_twos and how_many_fours > how_many_threes and how_many_fours > how_many_fives:\n",
    "    print ('FRED AGAIN IS DROPPING NUMBER 4')\n",
    "elif how_many_fives > how_many_ones and how_many_fives > how_many_twos and how_many_fives > how_many_threes and how_many_fives > how_many_fours:\n",
    "    print ('FRED AGAIN IS DROPPING NUMBER 5')\n",
    "else:\n",
    "    print ('FREDAGAINAGAINAGAIN')\n",
    "\n",
    "\n",
    "\n",
    "#make a graph with the number of comments for each number 1-5\n",
    "import matplotlib.pyplot as plt\n",
    "import numpy as np\n",
    "import matplotlib.pyplot as plt\n",
    "import numpy as np\n",
    "\n",
    "objects = ('1', '2', '3', '4', '5')\n",
    "y_pos = np.arange(len(objects))\n",
    "performance = [how_many_ones, how_many_twos, how_many_threes, how_many_fours, how_many_fives]\n",
    "\n",
    "plt.bar(y_pos, performance, align='center', alpha=0.5)\n",
    "\n",
    "plt.xticks(y_pos, objects)\n",
    "plt.ylabel('Number of comments')\n",
    "plt.title('Number of comments for each number 1-5')\n",
    "\n",
    "\n",
    "\n",
    "\n",
    "\n",
    "\n",
    "\n",
    "\n",
    "\n",
    "\n",
    "\n",
    "\n",
    "\n"
   ]
  }
 ],
 "metadata": {
  "kernelspec": {
   "display_name": "Python 3.8.13",
   "language": "python",
   "name": "python3"
  },
  "language_info": {
   "codemirror_mode": {
    "name": "ipython",
    "version": 3
   },
   "file_extension": ".py",
   "mimetype": "text/x-python",
   "name": "python",
   "nbconvert_exporter": "python",
   "pygments_lexer": "ipython3",
   "version": "3.8.13"
  },
  "orig_nbformat": 4,
  "vscode": {
   "interpreter": {
    "hash": "a1b748f0c2b38666f934a10f6c10f9ceed55bccf95463096267c96083d291d07"
   }
  }
 },
 "nbformat": 4,
 "nbformat_minor": 2
}
